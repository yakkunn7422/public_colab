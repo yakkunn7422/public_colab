{
  "nbformat": 4,
  "nbformat_minor": 0,
  "metadata": {
    "colab": {
      "provenance": [],
      "gpuType": "T4",
      "machine_shape": "hm",
      "authorship_tag": "ABX9TyM1L9lcHmNVZcGK5Llye/vN",
      "include_colab_link": true
    },
    "kernelspec": {
      "name": "python3",
      "display_name": "Python 3"
    },
    "language_info": {
      "name": "python"
    },
    "accelerator": "GPU"
  },
  "cells": [
    {
      "cell_type": "markdown",
      "metadata": {
        "id": "view-in-github",
        "colab_type": "text"
      },
      "source": [
        "<a href=\"https://colab.research.google.com/github/yakkunn7422/public_colab/blob/main/AI_Contest_Misc.ipynb\" target=\"_parent\"><img src=\"https://colab.research.google.com/assets/colab-badge.svg\" alt=\"Open In Colab\"/></a>"
      ]
    },
    {
      "cell_type": "code",
      "source": [
        "from google.colab import drive\n",
        "drive.mount('/content/drive')"
      ],
      "metadata": {
        "colab": {
          "base_uri": "https://localhost:8080/"
        },
        "id": "6yV094ubTpxU",
        "outputId": "777c661a-fd0c-47f1-e92c-0f6069eb8939"
      },
      "execution_count": null,
      "outputs": [
        {
          "output_type": "stream",
          "name": "stdout",
          "text": [
            "Mounted at /content/drive\n"
          ]
        }
      ]
    },
    {
      "cell_type": "code",
      "source": [
        "!rm -fr /content/sample_data/new_train_images\n",
        "!rm -fr /content/sample_data/test_images.zip\n",
        "!rm -fr /content/sample_data/train_images.zip\n",
        "!rm -fr /content/sample_data/train_master.tsv\n",
        "!rm -fr /content/sample_data/sample_submit.tsv\n",
        "!rm -fr /content/sample_data/resnet18-5c106cde.pth\n",
        "!rm -fr /content/sample_data/label_master.tsv\n"
      ],
      "metadata": {
        "id": "eSv5cFmrspCb"
      },
      "execution_count": null,
      "outputs": []
    },
    {
      "cell_type": "code",
      "source": [
        "#ZIPファイルの解凍\n",
        "sample_dir = \"/content/sample_data\"\n",
        "os.chdir(sample_dir)\n",
        "import zipfile\n",
        "with zipfile.ZipFile('/content/drive/MyDrive/2024_AIContest2_thema1/Thema1/test_images.zip') as myzip:\n",
        "     myzip.extractall()"
      ],
      "metadata": {
        "id": "akk5K2QOGKTT"
      },
      "execution_count": null,
      "outputs": []
    },
    {
      "cell_type": "code",
      "source": [
        "#指定したディレクトリ配下の画像を一覧表示させるコード\n",
        "import os\n",
        "from PIL import Image\n",
        "import matplotlib.pyplot as plt\n",
        "def display_images_from_directory(directory, images_per_row=5, max_display_count=20):\n",
        "    # ファイルリストを取得\n",
        "    files = [f for f in os.listdir(directory) if os.path.isfile(os.path.join(directory, f))]\n",
        "\n",
        "    # 画像ファイルだけをフィルター\n",
        "    image_files = [f for f in files if f.lower().endswith(('.png', '.jpg', '.jpeg', '.bmp', '.gif', '.tiff'))]\n",
        "    # プロット設定\n",
        "    num_images = min(len(image_files), max_display_count)\n",
        "    plt.figure(figsize=(15, num_images // images_per_row * 3))\n",
        "\n",
        "    for i, image_name in enumerate(image_files):\n",
        "        if i >= max_display_count:\n",
        "            break\n",
        "\n",
        "        image_path = os.path.join(directory, image_name)\n",
        "\n",
        "        with Image.open(image_path) as img:\n",
        "            # 画像サイズを取得\n",
        "            image_size = img.size\n",
        "            image_size_kb = os.path.getsize(image_path) // 1024\n",
        "\n",
        "        # プロット位置を設定\n",
        "        ax = plt.subplot(num_images // images_per_row + 1, images_per_row, i + 1)\n",
        "\n",
        "        # 画像を表示\n",
        "        img = Image.open(image_path)\n",
        "        plt.imshow(img)\n",
        "        plt.axis('off')\n",
        "\n",
        "        # ファイル名とサイズを表示\n",
        "        plt.title(f\"{image_name}\\n{image_size[0]}x{image_size[1]} px\\n{image_size_kb} KB\", fontsize=8)\n",
        "    # レイアウト調整\n",
        "    plt.tight_layout()\n",
        "    plt.show()\n",
        "\n",
        "# 使用例: ディレクトリパスを指定\n",
        "directory_path = '/content/sample_data/test_images'\n",
        "\n",
        "# 使用例: １列に3つずつ。最大20画像表示\n",
        "display_images_from_directory(directory_path, images_per_row=3, max_display_count=20)"
      ],
      "metadata": {
        "id": "7Uqzrkc_GQiH"
      },
      "execution_count": null,
      "outputs": []
    },
    {
      "cell_type": "code",
      "source": [
        "#■trainデータを 学習(train)と評価(val)に分割し、Resnet18の使用前提条件にあわせたディレクトリ構成にする為のコード\n",
        "#　使用条件：以下ファイルが必要\n",
        "#　　train.zip　…　学習用の画像がディレクトリ内にまとめて格納されている\n",
        "#　　　→配置場所：/content/drive/MyDrive/2024_AIContest2_thema1/Thema1/train_images.zip\n",
        "#　　train_master.tsv　… 画像毎のラベルがまとめられたファイル\n",
        "#　　　→配置場所：/content/drive/MyDrive/2024_AIContest2_thema1/Thema1/train_master.tsv\n",
        "import os\n",
        "import pandas as pd\n",
        "import zipfile\n",
        "import shutil\n",
        "import numpy as np\n",
        "\n",
        "# トレインとバリデーション用のディレクトリおよびその中のラベルごとのサブディレクトリを作成する\n",
        "def create_directories(base_dir, labels):\n",
        "\n",
        "    train_dir = os.path.join(base_dir, 'train')\n",
        "    val_dir = os.path.join(base_dir, 'val')\n",
        "\n",
        "    for dir_path in [train_dir, val_dir]:\n",
        "        if not os.path.exists(dir_path):\n",
        "            os.makedirs(dir_path)\n",
        "\n",
        "    for label in labels:\n",
        "        os.makedirs(os.path.join(train_dir, str(label)), exist_ok=True)\n",
        "        os.makedirs(os.path.join(val_dir, str(label)), exist_ok=True)\n",
        "\n",
        "    return train_dir, val_dir\n",
        "\n",
        "# ZIPファイルを解凍する\n",
        "def extract_zip(zip_file_path, extract_to):\n",
        "\n",
        "    with zipfile.ZipFile(zip_file_path, 'r') as zip_ref:\n",
        "        zip_ref.extractall(extract_to)\n",
        "\n",
        "# TSVファイルを読み込み、1行目を削除してデータフレームを準備する\n",
        "def load_and_prepare_data(tsv_file_path):\n",
        "\n",
        "    df = pd.read_csv(tsv_file_path, sep='\\t', names=['filename', 'label_id'])\n",
        "    df = df.iloc[1:].reset_index(drop=True)\n",
        "\n",
        "    return df\n",
        "\n",
        "# 画像ファイルをディレクトリに分配する\n",
        "def distribute_images(df, image_dir, train_dir, val_dir, train_ratio=0.8):\n",
        "\n",
        "    for label in df['label_id'].unique():\n",
        "        label_images = df[df['label_id'] == label]['filename'].tolist()\n",
        "        # シャッフルして分割\n",
        "\n",
        "        np.random.shuffle(label_images)\n",
        "        train_size = int(len(label_images) * train_ratio)\n",
        "        train_images = label_images[:train_size]\n",
        "        val_images = label_images[train_size:]\n",
        "\n",
        "        for image_name in train_images:\n",
        "            src_path = os.path.join(image_dir, image_name)\n",
        "            dst_path = os.path.join(train_dir, str(label), image_name)\n",
        "            shutil.copy(src_path, dst_path)\n",
        "\n",
        "        for image_name in val_images:\n",
        "            src_path = os.path.join(image_dir, image_name)\n",
        "            dst_path = os.path.join(val_dir, str(label), image_name)\n",
        "            shutil.copy(src_path, dst_path)\n",
        "\n",
        "# ディレクトリ内のアイテムを探索し数を表示する\n",
        "def count_files_recursive(directory):\n",
        "    total_files = 0\n",
        "\n",
        "    for root, dirs, files in os.walk(directory):\n",
        "        files_count = len(files)\n",
        "        subdir_relative = os.path.relpath(root, directory)\n",
        "        print(f\"Directory '{subdir_relative}' contains {files_count} files.\")\n",
        "\n",
        "        total_files += files_count\n",
        "\n",
        "    print(f\"Total files in '{directory}': {total_files}\")\n",
        "\n",
        "# メイン処理を実行する関数\n",
        "def main(zip_file_path, tsv_file_path, output_dir, train_ratio=0.8):\n",
        "\n",
        "    if not os.path.exists(output_dir):\n",
        "        os.makedirs(output_dir)\n",
        "\n",
        "    df = load_and_prepare_data(tsv_file_path)\n",
        "\n",
        "    extract_zip(zip_file_path, output_dir)\n",
        "\n",
        "    labels = df['label_id'].unique()\n",
        "\n",
        "    train_dir, val_dir = create_directories(output_dir, labels)\n",
        "    image_dir = os.path.join(output_dir, 'train_images')\n",
        "\n",
        "    distribute_images(df, image_dir, train_dir, val_dir, train_ratio)\n",
        "\n",
        "# 実行\n",
        "zip_file_path = '/content/drive/MyDrive/2024_AIContest2_thema1/Thema1/train_images.zip'\n",
        "tsv_file_path = '/content/drive/MyDrive/2024_AIContest2_thema1/Thema1/train_master.tsv'\n",
        "output_dir = '/content/sample_data/new_train_images'\n",
        "\n",
        "main(zip_file_path, tsv_file_path, output_dir, train_ratio=0.8)\n",
        "\n",
        "count_files_recursive(output_dir)\n"
      ],
      "metadata": {
        "id": "T8my0YbvGe9N"
      },
      "execution_count": null,
      "outputs": []
    }
  ]
}